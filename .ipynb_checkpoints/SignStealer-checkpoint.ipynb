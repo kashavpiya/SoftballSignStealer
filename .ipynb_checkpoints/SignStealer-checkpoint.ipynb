{
 "cells": [
  {
   "cell_type": "code",
   "execution_count": 1,
   "id": "3f62cab9",
   "metadata": {},
   "outputs": [],
   "source": [
    "# Importing packages that are necessary for the project\n",
    "import pandas as pd\n",
    "import numpy as np\n",
    "from sklearn import metrics\n",
    "import matplotlib.pyplot as plt\n",
    "import seaborn as sns"
   ]
  },
  {
   "cell_type": "code",
   "execution_count": 2,
   "id": "b485f505",
   "metadata": {},
   "outputs": [
    {
     "data": {
      "text/html": [
       "<div>\n",
       "<style scoped>\n",
       "    .dataframe tbody tr th:only-of-type {\n",
       "        vertical-align: middle;\n",
       "    }\n",
       "\n",
       "    .dataframe tbody tr th {\n",
       "        vertical-align: top;\n",
       "    }\n",
       "\n",
       "    .dataframe thead th {\n",
       "        text-align: right;\n",
       "    }\n",
       "</style>\n",
       "<table border=\"1\" class=\"dataframe\">\n",
       "  <thead>\n",
       "    <tr style=\"text-align: right;\">\n",
       "      <th></th>\n",
       "      <th>Sign</th>\n",
       "      <th>Sign Numbers</th>\n",
       "      <th>ae</th>\n",
       "      <th>aa</th>\n",
       "      <th>ad</th>\n",
       "      <th>af</th>\n",
       "      <th>ag</th>\n",
       "      <th>aj</th>\n",
       "      <th>ee</th>\n",
       "      <th>ea</th>\n",
       "      <th>...</th>\n",
       "      <th>gf</th>\n",
       "      <th>gg</th>\n",
       "      <th>gj</th>\n",
       "      <th>je</th>\n",
       "      <th>ja</th>\n",
       "      <th>jd</th>\n",
       "      <th>jf</th>\n",
       "      <th>jg</th>\n",
       "      <th>jj</th>\n",
       "      <th>Target</th>\n",
       "    </tr>\n",
       "  </thead>\n",
       "  <tbody>\n",
       "    <tr>\n",
       "      <th>0</th>\n",
       "      <td>ddde</td>\n",
       "      <td>3334</td>\n",
       "      <td>0</td>\n",
       "      <td>0</td>\n",
       "      <td>0</td>\n",
       "      <td>0</td>\n",
       "      <td>0</td>\n",
       "      <td>0</td>\n",
       "      <td>0</td>\n",
       "      <td>0</td>\n",
       "      <td>...</td>\n",
       "      <td>0</td>\n",
       "      <td>0</td>\n",
       "      <td>0</td>\n",
       "      <td>0</td>\n",
       "      <td>0</td>\n",
       "      <td>0</td>\n",
       "      <td>0</td>\n",
       "      <td>0</td>\n",
       "      <td>0</td>\n",
       "      <td>1</td>\n",
       "    </tr>\n",
       "    <tr>\n",
       "      <th>1</th>\n",
       "      <td>afdea</td>\n",
       "      <td>15341</td>\n",
       "      <td>0</td>\n",
       "      <td>0</td>\n",
       "      <td>0</td>\n",
       "      <td>1</td>\n",
       "      <td>0</td>\n",
       "      <td>0</td>\n",
       "      <td>0</td>\n",
       "      <td>1</td>\n",
       "      <td>...</td>\n",
       "      <td>0</td>\n",
       "      <td>0</td>\n",
       "      <td>0</td>\n",
       "      <td>0</td>\n",
       "      <td>0</td>\n",
       "      <td>0</td>\n",
       "      <td>0</td>\n",
       "      <td>0</td>\n",
       "      <td>0</td>\n",
       "      <td>0</td>\n",
       "    </tr>\n",
       "    <tr>\n",
       "      <th>2</th>\n",
       "      <td>jajgjdj</td>\n",
       "      <td>2126232</td>\n",
       "      <td>0</td>\n",
       "      <td>0</td>\n",
       "      <td>0</td>\n",
       "      <td>0</td>\n",
       "      <td>0</td>\n",
       "      <td>1</td>\n",
       "      <td>0</td>\n",
       "      <td>0</td>\n",
       "      <td>...</td>\n",
       "      <td>0</td>\n",
       "      <td>0</td>\n",
       "      <td>1</td>\n",
       "      <td>0</td>\n",
       "      <td>1</td>\n",
       "      <td>1</td>\n",
       "      <td>0</td>\n",
       "      <td>1</td>\n",
       "      <td>0</td>\n",
       "      <td>1</td>\n",
       "    </tr>\n",
       "    <tr>\n",
       "      <th>3</th>\n",
       "      <td>eaffa</td>\n",
       "      <td>41551</td>\n",
       "      <td>0</td>\n",
       "      <td>0</td>\n",
       "      <td>0</td>\n",
       "      <td>1</td>\n",
       "      <td>0</td>\n",
       "      <td>0</td>\n",
       "      <td>0</td>\n",
       "      <td>1</td>\n",
       "      <td>...</td>\n",
       "      <td>0</td>\n",
       "      <td>0</td>\n",
       "      <td>0</td>\n",
       "      <td>0</td>\n",
       "      <td>0</td>\n",
       "      <td>0</td>\n",
       "      <td>0</td>\n",
       "      <td>0</td>\n",
       "      <td>0</td>\n",
       "      <td>0</td>\n",
       "    </tr>\n",
       "    <tr>\n",
       "      <th>4</th>\n",
       "      <td>dfjjfj</td>\n",
       "      <td>352252</td>\n",
       "      <td>0</td>\n",
       "      <td>0</td>\n",
       "      <td>0</td>\n",
       "      <td>0</td>\n",
       "      <td>0</td>\n",
       "      <td>0</td>\n",
       "      <td>0</td>\n",
       "      <td>0</td>\n",
       "      <td>...</td>\n",
       "      <td>0</td>\n",
       "      <td>0</td>\n",
       "      <td>0</td>\n",
       "      <td>0</td>\n",
       "      <td>0</td>\n",
       "      <td>0</td>\n",
       "      <td>1</td>\n",
       "      <td>0</td>\n",
       "      <td>1</td>\n",
       "      <td>1</td>\n",
       "    </tr>\n",
       "    <tr>\n",
       "      <th>...</th>\n",
       "      <td>...</td>\n",
       "      <td>...</td>\n",
       "      <td>...</td>\n",
       "      <td>...</td>\n",
       "      <td>...</td>\n",
       "      <td>...</td>\n",
       "      <td>...</td>\n",
       "      <td>...</td>\n",
       "      <td>...</td>\n",
       "      <td>...</td>\n",
       "      <td>...</td>\n",
       "      <td>...</td>\n",
       "      <td>...</td>\n",
       "      <td>...</td>\n",
       "      <td>...</td>\n",
       "      <td>...</td>\n",
       "      <td>...</td>\n",
       "      <td>...</td>\n",
       "      <td>...</td>\n",
       "      <td>...</td>\n",
       "      <td>...</td>\n",
       "    </tr>\n",
       "    <tr>\n",
       "      <th>9790</th>\n",
       "      <td>jdgjj</td>\n",
       "      <td>23622</td>\n",
       "      <td>0</td>\n",
       "      <td>0</td>\n",
       "      <td>0</td>\n",
       "      <td>0</td>\n",
       "      <td>0</td>\n",
       "      <td>0</td>\n",
       "      <td>0</td>\n",
       "      <td>0</td>\n",
       "      <td>...</td>\n",
       "      <td>0</td>\n",
       "      <td>0</td>\n",
       "      <td>1</td>\n",
       "      <td>0</td>\n",
       "      <td>0</td>\n",
       "      <td>1</td>\n",
       "      <td>0</td>\n",
       "      <td>0</td>\n",
       "      <td>1</td>\n",
       "      <td>0</td>\n",
       "    </tr>\n",
       "    <tr>\n",
       "      <th>9791</th>\n",
       "      <td>ejdjegdjg</td>\n",
       "      <td>423246326</td>\n",
       "      <td>0</td>\n",
       "      <td>0</td>\n",
       "      <td>0</td>\n",
       "      <td>0</td>\n",
       "      <td>0</td>\n",
       "      <td>0</td>\n",
       "      <td>0</td>\n",
       "      <td>0</td>\n",
       "      <td>...</td>\n",
       "      <td>0</td>\n",
       "      <td>0</td>\n",
       "      <td>0</td>\n",
       "      <td>1</td>\n",
       "      <td>0</td>\n",
       "      <td>1</td>\n",
       "      <td>0</td>\n",
       "      <td>1</td>\n",
       "      <td>0</td>\n",
       "      <td>1</td>\n",
       "    </tr>\n",
       "    <tr>\n",
       "      <th>9792</th>\n",
       "      <td>aaef</td>\n",
       "      <td>1145</td>\n",
       "      <td>1</td>\n",
       "      <td>1</td>\n",
       "      <td>0</td>\n",
       "      <td>0</td>\n",
       "      <td>0</td>\n",
       "      <td>0</td>\n",
       "      <td>0</td>\n",
       "      <td>0</td>\n",
       "      <td>...</td>\n",
       "      <td>0</td>\n",
       "      <td>0</td>\n",
       "      <td>0</td>\n",
       "      <td>0</td>\n",
       "      <td>0</td>\n",
       "      <td>0</td>\n",
       "      <td>0</td>\n",
       "      <td>0</td>\n",
       "      <td>0</td>\n",
       "      <td>0</td>\n",
       "    </tr>\n",
       "    <tr>\n",
       "      <th>9793</th>\n",
       "      <td>jgfafd</td>\n",
       "      <td>265153</td>\n",
       "      <td>0</td>\n",
       "      <td>0</td>\n",
       "      <td>0</td>\n",
       "      <td>1</td>\n",
       "      <td>0</td>\n",
       "      <td>0</td>\n",
       "      <td>0</td>\n",
       "      <td>0</td>\n",
       "      <td>...</td>\n",
       "      <td>1</td>\n",
       "      <td>0</td>\n",
       "      <td>0</td>\n",
       "      <td>0</td>\n",
       "      <td>0</td>\n",
       "      <td>0</td>\n",
       "      <td>0</td>\n",
       "      <td>1</td>\n",
       "      <td>0</td>\n",
       "      <td>1</td>\n",
       "    </tr>\n",
       "    <tr>\n",
       "      <th>9794</th>\n",
       "      <td>ejjde</td>\n",
       "      <td>42234</td>\n",
       "      <td>0</td>\n",
       "      <td>0</td>\n",
       "      <td>0</td>\n",
       "      <td>0</td>\n",
       "      <td>0</td>\n",
       "      <td>0</td>\n",
       "      <td>0</td>\n",
       "      <td>0</td>\n",
       "      <td>...</td>\n",
       "      <td>0</td>\n",
       "      <td>0</td>\n",
       "      <td>0</td>\n",
       "      <td>0</td>\n",
       "      <td>0</td>\n",
       "      <td>1</td>\n",
       "      <td>0</td>\n",
       "      <td>0</td>\n",
       "      <td>1</td>\n",
       "      <td>0</td>\n",
       "    </tr>\n",
       "  </tbody>\n",
       "</table>\n",
       "<p>9795 rows × 39 columns</p>\n",
       "</div>"
      ],
      "text/plain": [
       "           Sign  Sign Numbers  ae  aa  ad  af  ag  aj  ee  ea  ...  gf  gg  \\\n",
       "0          ddde          3334   0   0   0   0   0   0   0   0  ...   0   0   \n",
       "1         afdea         15341   0   0   0   1   0   0   0   1  ...   0   0   \n",
       "2       jajgjdj       2126232   0   0   0   0   0   1   0   0  ...   0   0   \n",
       "3         eaffa         41551   0   0   0   1   0   0   0   1  ...   0   0   \n",
       "4        dfjjfj        352252   0   0   0   0   0   0   0   0  ...   0   0   \n",
       "...         ...           ...  ..  ..  ..  ..  ..  ..  ..  ..  ...  ..  ..   \n",
       "9790      jdgjj         23622   0   0   0   0   0   0   0   0  ...   0   0   \n",
       "9791  ejdjegdjg     423246326   0   0   0   0   0   0   0   0  ...   0   0   \n",
       "9792       aaef          1145   1   1   0   0   0   0   0   0  ...   0   0   \n",
       "9793     jgfafd        265153   0   0   0   1   0   0   0   0  ...   1   0   \n",
       "9794      ejjde         42234   0   0   0   0   0   0   0   0  ...   0   0   \n",
       "\n",
       "      gj  je  ja  jd  jf  jg  jj  Target  \n",
       "0      0   0   0   0   0   0   0       1  \n",
       "1      0   0   0   0   0   0   0       0  \n",
       "2      1   0   1   1   0   1   0       1  \n",
       "3      0   0   0   0   0   0   0       0  \n",
       "4      0   0   0   0   1   0   1       1  \n",
       "...   ..  ..  ..  ..  ..  ..  ..     ...  \n",
       "9790   1   0   0   1   0   0   1       0  \n",
       "9791   0   1   0   1   0   1   0       1  \n",
       "9792   0   0   0   0   0   0   0       0  \n",
       "9793   0   0   0   0   0   1   0       1  \n",
       "9794   0   0   0   1   0   0   1       0  \n",
       "\n",
       "[9795 rows x 39 columns]"
      ]
     },
     "execution_count": 2,
     "metadata": {},
     "output_type": "execute_result"
    }
   ],
   "source": [
    "# Importing the manipulated csv file as a pandas dataframe\n",
    "df = pd.read_csv(r'Sign Stealing Data.csv')\n",
    "df"
   ]
  },
  {
   "cell_type": "code",
   "execution_count": 3,
   "id": "9b95be29",
   "metadata": {},
   "outputs": [
    {
     "data": {
      "text/plain": [
       "Sign            0\n",
       "Sign Numbers    0\n",
       "ae              0\n",
       "aa              0\n",
       "ad              0\n",
       "af              0\n",
       "ag              0\n",
       "aj              0\n",
       "ee              0\n",
       "ea              0\n",
       "ed              0\n",
       "ef              0\n",
       "eg              0\n",
       "ej              0\n",
       "de              0\n",
       "da              0\n",
       "dd              0\n",
       "df              0\n",
       "dg              0\n",
       "dj              0\n",
       "fe              0\n",
       "fa              0\n",
       "fd              0\n",
       "ff              0\n",
       "fg              0\n",
       "fj              0\n",
       "ge              0\n",
       "ga              0\n",
       "gd              0\n",
       "gf              0\n",
       "gg              0\n",
       "gj              0\n",
       "je              0\n",
       "ja              0\n",
       "jd              0\n",
       "jf              0\n",
       "jg              0\n",
       "jj              0\n",
       "Target          0\n",
       "dtype: int64"
      ]
     },
     "execution_count": 3,
     "metadata": {},
     "output_type": "execute_result"
    }
   ],
   "source": [
    "# Checking if there are any null values\n",
    "df.isnull().sum()"
   ]
  },
  {
   "cell_type": "code",
   "execution_count": 4,
   "id": "78d7a870",
   "metadata": {},
   "outputs": [],
   "source": [
    "# Assigning X as the columns with the possible pairs of the sequence letters\n",
    "# Assigning y as the target/label column which is our class\n",
    "X=df.iloc[:,2:38]\n",
    "y=pd.DataFrame(df.iloc[:,-1])\n",
    "y=df.iloc[:,-1]"
   ]
  },
  {
   "cell_type": "code",
   "execution_count": 5,
   "id": "bf90cab1",
   "metadata": {},
   "outputs": [
    {
     "name": "stderr",
     "output_type": "stream",
     "text": [
      "C:\\Users\\kasha\\anaconda3\\lib\\site-packages\\seaborn\\_decorators.py:36: FutureWarning: Pass the following variable as a keyword arg: x. From version 0.12, the only valid positional argument will be `data`, and passing other arguments without an explicit keyword will result in an error or misinterpretation.\n",
      "  warnings.warn(\n"
     ]
    },
    {
     "data": {
      "text/plain": [
       "Text(0, 0.5, 'Number of instances')"
      ]
     },
     "execution_count": 5,
     "metadata": {},
     "output_type": "execute_result"
    },
    {
     "data": {
      "image/png": "[encoded data removed]",
      "text/plain": [
       "<Figure size 576x432 with 1 Axes>"
      ]
     },
     "metadata": {
      "needs_background": "light"
     },
     "output_type": "display_data"
    }
   ],
   "source": [
    "# Histogram to show that there are almost equal number of 1s (Steal) to the number of 0s(No Steal)\n",
    "# This histogram shows that the synthetic data that we used was not biased\n",
    "plt.figure(figsize=(8,6))\n",
    "sns.countplot(df['Target'])\n",
    "plt.xlabel(\"Steal(1) or No Steal(0)\")\n",
    "plt.ylabel(\"Number of instances\")"
   ]
  },
  {
   "cell_type": "code",
   "execution_count": 6,
   "id": "aaba0f9c",
   "metadata": {},
   "outputs": [
    {
     "data": {
      "image/png": "[encoded data removed]",
      "text/plain": [
       "<Figure size 1296x432 with 36 Axes>"
      ]
     },
     "metadata": {
      "needs_background": "light"
     },
     "output_type": "display_data"
    }
   ],
   "source": [
    "# This boxplot is used to look for feature importance\n",
    "# We found out that the ones that consisted the letter j had more importance and is likely to be our key\n",
    "df_features = df.drop(columns = ['Sign', 'Sign Numbers', 'Target'])\n",
    "fig, axes = plt.subplots(6, 6, figsize=(18, 6))\n",
    "for c, ax in zip (df_features.columns, axes.ravel()):\n",
    "    df[[c, 'Target']].boxplot(vert=False, by=\"Target\", ax=ax)\n",
    "    ax.set_xlabel(\"\")\n",
    "plt.suptitle(\"\")\n",
    "plt.tight_layout()"
   ]
  },
  {
   "cell_type": "code",
   "execution_count": 7,
   "id": "d901c32b",
   "metadata": {},
   "outputs": [],
   "source": [
    "# Scaling the data using Standard Scaling\n",
    "from sklearn.preprocessing import StandardScaler\n",
    "scalar = StandardScaler()\n",
    "X = scalar.fit_transform(X)"
   ]
  },
  {
   "cell_type": "code",
   "execution_count": 8,
   "id": "f9e775cd",
   "metadata": {},
   "outputs": [],
   "source": [
    "# Applying PCA on our data to see if PCA would lead to a good result\n",
    "# In the end, we found PCA was not suitable for our data set\n",
    "from sklearn.decomposition import PCA\n",
    "pca = PCA(n_components=13)\n",
    "pca.fit(X)\n",
    "X_pca = pca.transform(X)"
   ]
  },
  {
   "cell_type": "code",
   "execution_count": 9,
   "id": "b885ac4e",
   "metadata": {},
   "outputs": [],
   "source": [
    "# Spliting our data into test and train\n",
    "from sklearn.model_selection import train_test_split\n",
    "X_train, X_test, y_train, y_test = train_test_split(X, y, random_state=0)"
   ]
  },
  {
   "cell_type": "code",
   "execution_count": 10,
   "id": "06715363",
   "metadata": {},
   "outputs": [],
   "source": [
    "from sklearn.neural_network import MLPClassifier\n",
    "mlp_reg = MLPClassifier(activation = 'relu', random_state=5, hidden_layer_sizes = [10,510], alpha = .2, max_iter = 1000)\n",
    "mlp_reg.fit(X_train, y_train)\n",
    "pred_mlp_reg = mlp_reg.predict(X_test)"
   ]
  },
  {
   "cell_type": "code",
   "execution_count": 11,
   "id": "f9fa99cc",
   "metadata": {},
   "outputs": [],
   "source": [
    "mlp_scale = MLPClassifier(activation = 'relu', random_state=10, hidden_layer_sizes = [10,210], alpha = 2.5, max_iter = 1000)\n",
    "mlp_scale.fit(X_train, y_train)\n",
    "pred_mlp_scale = mlp_scale.predict(X_test)"
   ]
  },
  {
   "cell_type": "code",
   "execution_count": null,
   "id": "6940ea17",
   "metadata": {},
   "outputs": [],
   "source": [
    "mlp_pca = MLPClassifier(activation = 'relu', random_state=5, hidden_layer_sizes = [10,510], alpha = .5, max_iter = 1000)\n",
    "mlp_pca.fit(X_train, y_train)\n",
    "pred_mlp_pca = mlp_pca.predict(X_test)"
   ]
  },
  {
   "cell_type": "code",
   "execution_count": null,
   "id": "6c83613b",
   "metadata": {},
   "outputs": [],
   "source": [
    "# Confusion matrix for the regular non-scaled data\n",
    "from sklearn.metrics import confusion_matrix\n",
    "con_mlp_reg = confusion_matrix(y_test, pred_mlp_reg)\n",
    "print(\"Confusion Matrix:\\n{}\".format(con_mlp_reg))"
   ]
  },
  {
   "cell_type": "code",
   "execution_count": null,
   "id": "4af8b75b",
   "metadata": {},
   "outputs": [],
   "source": [
    "# Confusion matrix for the scaled data\n",
    "con_mlp_scale = confusion_matrix(y_test, pred_mlp_scale)\n",
    "print(\"Confusion Matrix:\\n{}\".format(con_mlp_scale))"
   ]
  },
  {
   "cell_type": "code",
   "execution_count": null,
   "id": "ad20c635",
   "metadata": {},
   "outputs": [],
   "source": [
    "# Confusion matrix for the data with PCA applied\n",
    "con_mlp_pca = confusion_matrix(y_test, pred_mlp_pca)\n",
    "print(\"Confusion Matrix:\\n{}\".format(con_mlp_pca))"
   ]
  },
  {
   "cell_type": "code",
   "execution_count": null,
   "id": "d1e901bc",
   "metadata": {},
   "outputs": [],
   "source": [
    "TP = 1007\n",
    "TN = 258\n",
    "FP = 233\n",
    "FN = 951\n",
    "def calculate(TP,TN,FP,FN):\n",
    "    precision = TP/(TP+FP)\n",
    "    recall = TP/(TP+FN)\n",
    "    F = 2 * precision * recall/(precision+recall)\n",
    "    print(\"Precision:\", precision)\n",
    "    print(\"Recall:\", recall)\n",
    "    print(\"F:\", F)\n",
    "calculate(TP,TN,FP,FN)"
   ]
  },
  {
   "cell_type": "code",
   "execution_count": null,
   "id": "35dda793",
   "metadata": {},
   "outputs": [],
   "source": [
    "TP = 1016\n",
    "TN = 959\n",
    "FP = 249\n",
    "FN = 225\n",
    "\n",
    "calculate(TP,TN,FP,FN)"
   ]
  },
  {
   "cell_type": "code",
   "execution_count": null,
   "id": "324d631a",
   "metadata": {},
   "outputs": [],
   "source": [
    "TP = 1007\n",
    "TN = 935\n",
    "FP = 258\n",
    "FN = 249\n",
    "\n",
    "calculate(TP,TN,FP,FN)"
   ]
  },
  {
   "cell_type": "code",
   "execution_count": null,
   "id": "d3b4be3c",
   "metadata": {},
   "outputs": [],
   "source": [
    "# Accuracy was between 0.68 and 0.71 for training and between 0.68 and 0.72 for testing\n",
    "# Best was random state = 5, train = 0.71, test = 0.72\n",
    "# Scaling: Accuracy was 0.97 for training and was 0.84 or 0.85 for testing\n",
    "# Best was random state = 10, train = 0.97, test = 0.85\n",
    "for i in range(0,51,5):\n",
    "    mlp = MLPClassifier(activation = 'relu', random_state=i, max_iter = 1000)\n",
    "    mlp.fit(X_train, y_train)\n",
    "    print(\"i:\",i)\n",
    "    print(\"Accuracy on training set: {:.2f}\".format(mlp.score(X_train, y_train)))\n",
    "    print(\"Accuracy on test set: {:.2f}\".format(mlp.score(X_test, y_test)))"
   ]
  },
  {
   "cell_type": "code",
   "execution_count": null,
   "id": "14ee5cf2",
   "metadata": {
    "scrolled": true
   },
   "outputs": [],
   "source": [
    "# Accuracy was between 0.49 and 0.73 for training and between 0.52 and 0.72 for testing\n",
    "# Best was hidden layer sizes = 510, train = 0.73, test = 0.72\n",
    "# Scaling: Accuracy was between 0.85 and 0.96 for training and between 0.77 and 0.80 for testing\n",
    "# Best was hidden layer sizes = 210, train = 0.91, test = 0.80\n",
    "\n",
    "for i in range(10,210,20):\n",
    "    mlp = MLPClassifier(activation = 'relu', random_state=25, hidden_layer_sizes = [10,i], max_iter = 1000)\n",
    "    mlp.fit(X_train, y_train)\n",
    "    print(\"i:\",i)\n",
    "    print(\"Accuracy on training set: {:.2f}\".format(mlp.score(X_train, y_train)))\n",
    "    print(\"Accuracy on test set: {:.2f}\".format(mlp.score(X_test, y_test)))"
   ]
  },
  {
   "cell_type": "code",
   "execution_count": null,
   "id": "b3898e3e",
   "metadata": {
    "scrolled": true
   },
   "outputs": [],
   "source": [
    "# Accuracy was between 0.49 and 0.73 for training and between 0.52 and 0.72 for testing\n",
    "# Best was alpha = 0.20, train = 0.73, test = 0.72\n",
    "# Scaling: Accuracy was between 0.71 and 0.86 for training and between 0.70 and 0.84 for testing\n",
    "# Best was alpha = 2.50, train = 0.85, test = 0.84\n",
    "\n",
    "for i in range(1,21):\n",
    "    mlp = MLPClassifier(activation = 'relu', random_state=10, hidden_layer_sizes = [10,50], alpha = i*.5, max_iter = 1000)\n",
    "    mlp.fit(X_train, y_train)\n",
    "    print(\"i: {:.2f}\".format(i*.5))\n",
    "    print(\"Accuracy on training set: {:.2f}\".format(mlp.score(X_train, y_train)))\n",
    "    print(\"Accuracy on test set: {:.2f}\".format(mlp.score(X_test, y_test)))"
   ]
  },
  {
   "cell_type": "code",
   "execution_count": null,
   "id": "4294ee04",
   "metadata": {},
   "outputs": [],
   "source": [
    "#This is the best overall accuracy that we found\n",
    "X=df.iloc[:,2:38]\n",
    "y=pd.DataFrame(df.iloc[:,-1])\n",
    "y=df.iloc[:,-1]\n",
    "\n",
    "X_train, X_test, y_train, y_test = train_test_split(X, y, random_state=0)\n",
    "\n",
    "\n",
    "mlp = MLPClassifier(activation = \"tanh\", random_state=0, hidden_layer_sizes=[10, 10], max_iter=800, alpha=0.1)\n",
    "mlp.fit(X_train, y_train)\n",
    "print(\"Accuracy on training set: {:.2f}\".format(mlp.score(X_train, y_train)))\n",
    "print(\"Accuracy on test set: {:.2f}\".format(mlp.score(X_test, y_test)))\n",
    "\n"
   ]
  },
  {
   "cell_type": "code",
   "execution_count": null,
   "id": "456a3255",
   "metadata": {},
   "outputs": [],
   "source": [
    "# Predictions from the model with the best result\n",
    "y_pred = mlp.predict(X_test)"
   ]
  },
  {
   "cell_type": "code",
   "execution_count": null,
   "id": "899889c3",
   "metadata": {},
   "outputs": [],
   "source": [
    "finalModelConfusion = confusion_matrix(y_test, y_pred)\n",
    "print(\"Confusion Matrix:\\n{}\".format(finalModelConfusion))"
   ]
  },
  {
   "cell_type": "code",
   "execution_count": null,
   "id": "c020b3f5",
   "metadata": {},
   "outputs": [],
   "source": [
    "from sklearn.metrics import f1_score\n",
    "f1_score(y_test, y_pred)"
   ]
  },
  {
   "cell_type": "code",
   "execution_count": null,
   "id": "d7c66604",
   "metadata": {
    "scrolled": true
   },
   "outputs": [],
   "source": [
    "plt.figure(figsize=(20, 5))\n",
    "plt.imshow(mlp.coefs_[0], interpolation='none', cmap='viridis')\n",
    "plt.xlabel(\"Columns in weight matrix\")\n",
    "plt.ylabel(\"Input feature\")\n",
    "plt.colorbar()\n",
    "\n",
    "# looks like all the features we used have somewhat similar weights which\n",
    "# lets us know that each feature is each important to the model"
   ]
  },
  {
   "cell_type": "code",
   "execution_count": null,
   "id": "6e02bcc3",
   "metadata": {},
   "outputs": [],
   "source": [
    "# Create correlation matrix\n",
    "corr_mat = df.corr()\n",
    "\n",
    "# Create mask\n",
    "mask = np.zeros_like(corr_mat, dtype=np.bool)\n",
    "mask[np.triu_indices_from(mask, k=1)] = True\n",
    "\n",
    "# Plot heatmap\n",
    "plt.figure(figsize=(15, 10))\n",
    "sns.heatmap(corr_mat, annot=True, fmt='.1f',\n",
    "            cmap='RdBu_r', vmin=-1, vmax=1,\n",
    "            mask=mask)"
   ]
  },
  {
   "cell_type": "code",
   "execution_count": null,
   "id": "90b013aa",
   "metadata": {},
   "outputs": [],
   "source": [
    "df.keys()"
   ]
  },
  {
   "cell_type": "code",
   "execution_count": null,
   "id": "1c9823b4",
   "metadata": {},
   "outputs": [],
   "source": [
    "#exporting the model which can be used to create a web app\n",
    "import pickle\n",
    "pickle.dump(mlp, open('model.pkl', 'wb'))"
   ]
  }
 ],
 "metadata": {
  "kernelspec": {
   "display_name": "Python 3 (ipykernel)",
   "language": "python",
   "name": "python3"
  },
  "language_info": {
   "codemirror_mode": {
    "name": "ipython",
    "version": 3
   },
   "file_extension": ".py",
   "mimetype": "text/x-python",
   "name": "python",
   "nbconvert_exporter": "python",
   "pygments_lexer": "ipython3",
   "version": "3.9.7"
  }
 },
 "nbformat": 4,
 "nbformat_minor": 5
}
